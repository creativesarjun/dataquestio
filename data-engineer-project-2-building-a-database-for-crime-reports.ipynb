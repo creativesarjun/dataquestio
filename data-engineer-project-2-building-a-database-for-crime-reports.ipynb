{
 "cells": [
  {
   "cell_type": "markdown",
   "metadata": {
    "collapsed": true
   },
   "source": [
    "# Building a database for crime reports"
   ]
  },
  {
   "cell_type": "markdown",
   "metadata": {},
   "source": [
    "In this project, we will build a database for storing data related to crimes that occurred in Boston."
   ]
  },
  {
   "cell_type": "markdown",
   "metadata": {},
   "source": [
    "The goal of this project is to create a database named crimes_db with a table – boston_crimes – with appropriate datatypes for storing the data from the boston.csv file. We will be creating the table inside a schema named crimes. We will also create the readonly and readwrite groups with the appropriate privileges. Finally, we will also create one user for each of these groups."
   ]
  },
  {
   "cell_type": "markdown",
   "metadata": {},
   "source": [
    "## Initial exploration"
   ]
  },
  {
   "cell_type": "markdown",
   "metadata": {},
   "source": [
    "Here are the first few rows:"
   ]
  },
  {
   "cell_type": "code",
   "execution_count": 27,
   "metadata": {
    "collapsed": true
   },
   "outputs": [],
   "source": [
    "import pandas as pd\n",
    "import csv"
   ]
  },
  {
   "cell_type": "code",
   "execution_count": 28,
   "metadata": {
    "collapsed": false
   },
   "outputs": [
    {
     "data": {
      "text/html": [
       "<div>\n",
       "<style scoped>\n",
       "    .dataframe tbody tr th:only-of-type {\n",
       "        vertical-align: middle;\n",
       "    }\n",
       "\n",
       "    .dataframe tbody tr th {\n",
       "        vertical-align: top;\n",
       "    }\n",
       "\n",
       "    .dataframe thead th {\n",
       "        text-align: right;\n",
       "    }\n",
       "</style>\n",
       "<table border=\"1\" class=\"dataframe\">\n",
       "  <thead>\n",
       "    <tr style=\"text-align: right;\">\n",
       "      <th></th>\n",
       "      <th>incident_number</th>\n",
       "      <th>offense_code</th>\n",
       "      <th>description</th>\n",
       "      <th>date</th>\n",
       "      <th>day_of_the_week</th>\n",
       "      <th>lat</th>\n",
       "      <th>long</th>\n",
       "    </tr>\n",
       "  </thead>\n",
       "  <tbody>\n",
       "    <tr>\n",
       "      <th>0</th>\n",
       "      <td>1</td>\n",
       "      <td>619</td>\n",
       "      <td>LARCENY ALL OTHERS</td>\n",
       "      <td>2018-09-02</td>\n",
       "      <td>Sunday</td>\n",
       "      <td>42.357791</td>\n",
       "      <td>-71.139371</td>\n",
       "    </tr>\n",
       "    <tr>\n",
       "      <th>1</th>\n",
       "      <td>2</td>\n",
       "      <td>1402</td>\n",
       "      <td>VANDALISM</td>\n",
       "      <td>2018-08-21</td>\n",
       "      <td>Tuesday</td>\n",
       "      <td>42.306821</td>\n",
       "      <td>-71.060300</td>\n",
       "    </tr>\n",
       "    <tr>\n",
       "      <th>2</th>\n",
       "      <td>3</td>\n",
       "      <td>3410</td>\n",
       "      <td>TOWED MOTOR VEHICLE</td>\n",
       "      <td>2018-09-03</td>\n",
       "      <td>Monday</td>\n",
       "      <td>42.346589</td>\n",
       "      <td>-71.072429</td>\n",
       "    </tr>\n",
       "    <tr>\n",
       "      <th>3</th>\n",
       "      <td>4</td>\n",
       "      <td>3114</td>\n",
       "      <td>INVESTIGATE PROPERTY</td>\n",
       "      <td>2018-09-03</td>\n",
       "      <td>Monday</td>\n",
       "      <td>42.334182</td>\n",
       "      <td>-71.078664</td>\n",
       "    </tr>\n",
       "    <tr>\n",
       "      <th>4</th>\n",
       "      <td>5</td>\n",
       "      <td>3114</td>\n",
       "      <td>INVESTIGATE PROPERTY</td>\n",
       "      <td>2018-09-03</td>\n",
       "      <td>Monday</td>\n",
       "      <td>42.275365</td>\n",
       "      <td>-71.090361</td>\n",
       "    </tr>\n",
       "  </tbody>\n",
       "</table>\n",
       "</div>"
      ],
      "text/plain": [
       "   incident_number  offense_code           description        date  \\\n",
       "0                1           619    LARCENY ALL OTHERS  2018-09-02   \n",
       "1                2          1402             VANDALISM  2018-08-21   \n",
       "2                3          3410   TOWED MOTOR VEHICLE  2018-09-03   \n",
       "3                4          3114  INVESTIGATE PROPERTY  2018-09-03   \n",
       "4                5          3114  INVESTIGATE PROPERTY  2018-09-03   \n",
       "\n",
       "  day_of_the_week        lat       long  \n",
       "0          Sunday  42.357791 -71.139371  \n",
       "1         Tuesday  42.306821 -71.060300  \n",
       "2          Monday  42.346589 -71.072429  \n",
       "3          Monday  42.334182 -71.078664  \n",
       "4          Monday  42.275365 -71.090361  "
      ]
     },
     "execution_count": 28,
     "metadata": {},
     "output_type": "execute_result"
    }
   ],
   "source": [
    "#header and first four rows\n",
    "pd.read_csv('boston.csv')[0:5]"
   ]
  },
  {
   "cell_type": "markdown",
   "metadata": {
    "collapsed": true
   },
   "source": [
    "The first column represents the identifier of the crime. The second contains a numeric identifier code for the committed crime. The third represents a description of the crime. The next two rows contain the date when the crime happened and the corresponding day of the week. Finally, the last two columns represent the location of the crime with latitude and longitude coordinates."
   ]
  },
  {
   "cell_type": "markdown",
   "metadata": {
    "collapsed": true
   },
   "source": [
    "## Creating the database and the schema"
   ]
  },
  {
   "cell_type": "markdown",
   "metadata": {},
   "source": [
    "Let's create a database named crime_db for storing our crime data as well as a schema named crimes for containing the tables."
   ]
  },
  {
   "cell_type": "markdown",
   "metadata": {},
   "source": [
    "When connecting to the Postgres server, we need to specify a database name. Since the crime_db doesn't exist yet, we can create it by connecting to the dq database."
   ]
  },
  {
   "cell_type": "code",
   "execution_count": 29,
   "metadata": {
    "collapsed": false
   },
   "outputs": [
    {
     "ename": "ProgrammingError",
     "evalue": "database \"crime_db\" already exists\n",
     "output_type": "error",
     "traceback": [
      "\u001b[1;31m\u001b[0m",
      "\u001b[1;31mProgrammingError\u001b[0mTraceback (most recent call last)",
      "\u001b[1;32m<ipython-input-29-1aedfa9193f5>\u001b[0m in \u001b[0;36m<module>\u001b[1;34m()\u001b[0m\n\u001b[0;32m      5\u001b[0m \u001b[0mcur\u001b[0m \u001b[1;33m=\u001b[0m \u001b[0mconn\u001b[0m\u001b[1;33m.\u001b[0m\u001b[0mcursor\u001b[0m\u001b[1;33m(\u001b[0m\u001b[1;33m)\u001b[0m\u001b[1;33m\u001b[0m\u001b[0m\n\u001b[0;32m      6\u001b[0m \u001b[1;31m# create the crime_db database\u001b[0m\u001b[1;33m\u001b[0m\u001b[1;33m\u001b[0m\u001b[0m\n\u001b[1;32m----> 7\u001b[1;33m \u001b[0mcur\u001b[0m\u001b[1;33m.\u001b[0m\u001b[0mexecute\u001b[0m\u001b[1;33m(\u001b[0m\u001b[1;34m\"CREATE DATABASE crime_db;\"\u001b[0m\u001b[1;33m)\u001b[0m\u001b[1;33m\u001b[0m\u001b[0m\n\u001b[0m\u001b[0;32m      8\u001b[0m \u001b[0mconn\u001b[0m\u001b[1;33m.\u001b[0m\u001b[0mclose\u001b[0m\u001b[1;33m(\u001b[0m\u001b[1;33m)\u001b[0m\u001b[1;33m\u001b[0m\u001b[0m\n",
      "\u001b[1;31mProgrammingError\u001b[0m: database \"crime_db\" already exists\n"
     ]
    }
   ],
   "source": [
    "import psycopg2\n",
    "conn = psycopg2.connect(dbname=\"dq\", user=\"dq\")\n",
    "# set autocommit to True bacause this is required for creating databases\n",
    "conn.autocommit = True\n",
    "cur = conn.cursor()\n",
    "# create the crime_db database\n",
    "cur.execute(\"CREATE DATABASE crime_db;\")\n",
    "conn.close()"
   ]
  },
  {
   "cell_type": "code",
   "execution_count": 30,
   "metadata": {
    "collapsed": false
   },
   "outputs": [
    {
     "ename": "ProgrammingError",
     "evalue": "schema \"crimes\" already exists\n",
     "output_type": "error",
     "traceback": [
      "\u001b[1;31m\u001b[0m",
      "\u001b[1;31mProgrammingError\u001b[0mTraceback (most recent call last)",
      "\u001b[1;32m<ipython-input-30-a251f1ee7b8a>\u001b[0m in \u001b[0;36m<module>\u001b[1;34m()\u001b[0m\n\u001b[0;32m      4\u001b[0m \u001b[0mcur\u001b[0m \u001b[1;33m=\u001b[0m \u001b[0mconn\u001b[0m\u001b[1;33m.\u001b[0m\u001b[0mcursor\u001b[0m\u001b[1;33m(\u001b[0m\u001b[1;33m)\u001b[0m\u001b[1;33m\u001b[0m\u001b[0m\n\u001b[0;32m      5\u001b[0m \u001b[1;31m# create he crimes schema\u001b[0m\u001b[1;33m\u001b[0m\u001b[1;33m\u001b[0m\u001b[0m\n\u001b[1;32m----> 6\u001b[1;33m \u001b[0mcur\u001b[0m\u001b[1;33m.\u001b[0m\u001b[0mexecute\u001b[0m\u001b[1;33m(\u001b[0m\u001b[1;34m\"CREATE SCHEMA crimes;\"\u001b[0m\u001b[1;33m)\u001b[0m\u001b[1;33m\u001b[0m\u001b[0m\n\u001b[0m",
      "\u001b[1;31mProgrammingError\u001b[0m: schema \"crimes\" already exists\n"
     ]
    }
   ],
   "source": [
    "# now the crime_db database exists to we can connect to it\n",
    "conn = psycopg2.connect(dbname=\"crime_db\", user=\"dq\")\n",
    "conn.autocommit = True\n",
    "cur = conn.cursor()\n",
    "# create he crimes schema\n",
    "cur.execute(\"CREATE SCHEMA crimes;\")"
   ]
  },
  {
   "cell_type": "markdown",
   "metadata": {},
   "source": [
    "We now have a database and a schema — we're ready to start creating tables. Before we do that, let's gather some data about our crime dataset so that we can easily select the right datatypes to use in our table."
   ]
  },
  {
   "cell_type": "markdown",
   "metadata": {},
   "source": [
    "## Obtaining the Column Names and the first row"
   ]
  },
  {
   "cell_type": "markdown",
   "metadata": {},
   "source": [
    "Let's start by reading the column names from the boston.csv file as well as the first row. This way, we will have them at hand throughout this project so we can easily refer to them."
   ]
  },
  {
   "cell_type": "markdown",
   "metadata": {},
   "source": [
    "We obtain the header row and assign it to a variable named col_headers and obtain the first data row and assign it to a variable named first_row."
   ]
  },
  {
   "cell_type": "code",
   "execution_count": 31,
   "metadata": {
    "collapsed": true
   },
   "outputs": [],
   "source": [
    "import csv\n",
    "with open('boston.csv') as file:\n",
    "    reader = csv.reader(file)\n",
    "    col_headers = next(reader)\n",
    "    first_row = next(reader)"
   ]
  },
  {
   "cell_type": "code",
   "execution_count": 32,
   "metadata": {
    "collapsed": false
   },
   "outputs": [
    {
     "name": "stdout",
     "output_type": "stream",
     "text": [
      "['incident_number', 'offense_code', 'description', 'date', 'day_of_the_week', 'lat', 'long']\n",
      "\n",
      "\n",
      "['1', '619', 'LARCENY ALL OTHERS', '2018-09-02', 'Sunday', '42.35779134', '-71.13937053']\n"
     ]
    }
   ],
   "source": [
    "print(col_headers)\n",
    "print('\\n')\n",
    "print(first_row)"
   ]
  },
  {
   "cell_type": "markdown",
   "metadata": {},
   "source": [
    "We now have access to the column headers and the first row of data. This will help us when we create the table. We won't have to remember the names of the columns, and using the first row of data, we can easily recall what kind of data is in each column."
   ]
  },
  {
   "cell_type": "markdown",
   "metadata": {},
   "source": [
    "## Creating a function for analyzing column values"
   ]
  },
  {
   "cell_type": "markdown",
   "metadata": {},
   "source": [
    "Before we create a table to store the crime data, we need to identify the proper datatypes for the columns."
   ]
  },
  {
   "cell_type": "markdown",
   "metadata": {},
   "source": [
    "To help us with that, let's create a function — get_col_set() — that, given the name of a CSV file and a column index, computes a Python set with all distinct values contained in that column."
   ]
  },
  {
   "cell_type": "code",
   "execution_count": 33,
   "metadata": {
    "collapsed": false
   },
   "outputs": [
    {
     "name": "stdout",
     "output_type": "stream",
     "text": [
      "incident_number\t298329\n",
      "offense_code\t219\n",
      "description\t239\n",
      "date\t1177\n",
      "day_of_the_week\t7\n",
      "lat\t18177\n",
      "long\t18177\n"
     ]
    }
   ],
   "source": [
    "def get_col_set(csv_file, col_index):\n",
    "    import csv\n",
    "    values = set()\n",
    "    with open(csv_file, 'r') as f:\n",
    "        next(f)\n",
    "        reader = csv.reader(f)\n",
    "        for row in reader:\n",
    "            values.add(row[col_index])\n",
    "    return values\n",
    "\n",
    "for i in range(len(col_headers)):\n",
    "    values = get_col_set(\"boston.csv\", i)\n",
    "    print(col_headers[i], len(values), sep='\\t')"
   ]
  },
  {
   "cell_type": "markdown",
   "metadata": {},
   "source": [
    "This function will be useful for two reasons:\n",
    "\n",
    "- Checking whether an enumerated datatype might be a good choice for representing a column. Columns with a limited set of possible values are good candidates for enumerated datatypes.\n",
    "- Computing the maximum length of any text-like column to select appropriate sizes for VARCHAR columns"
   ]
  },
  {
   "cell_type": "markdown",
   "metadata": {},
   "source": [
    "There are two textual columns in the dataset, namely, the description and day_of_the_week columns. However, the day of the week contains only seven values — one for each day. We can tell that the longest of them is Wednesday without any computation."
   ]
  },
  {
   "cell_type": "markdown",
   "metadata": {},
   "source": [
    "Let's compute the maximum length of each value in the description column."
   ]
  },
  {
   "cell_type": "markdown",
   "metadata": {},
   "source": [
    "## Analyzing the maximum length of the description column"
   ]
  },
  {
   "cell_type": "markdown",
   "metadata": {},
   "source": [
    "Use the get_col_set function to compute the maximum description length to decide an appropriate length for that field."
   ]
  },
  {
   "cell_type": "code",
   "execution_count": 34,
   "metadata": {
    "collapsed": false
   },
   "outputs": [
    {
     "name": "stdout",
     "output_type": "stream",
     "text": [
      "['incident_number', 'offense_code', 'description', 'date', 'day_of_the_week', 'lat', 'long']\n"
     ]
    }
   ],
   "source": [
    "print(col_headers)"
   ]
  },
  {
   "cell_type": "code",
   "execution_count": 35,
   "metadata": {
    "collapsed": false
   },
   "outputs": [
    {
     "name": "stdout",
     "output_type": "stream",
     "text": [
      "58\n"
     ]
    }
   ],
   "source": [
    "descriptions = get_col_set(\"boston.csv\", 2) # description is at index number 2\n",
    "max_len = 0\n",
    "for description in descriptions:\n",
    "    max_len = max(max_len, len(description))\n",
    "print(max_len)"
   ]
  },
  {
   "cell_type": "markdown",
   "metadata": {},
   "source": [
    "## Creating the table"
   ]
  },
  {
   "cell_type": "markdown",
   "metadata": {},
   "source": [
    "We will use the same names for the column headers."
   ]
  },
  {
   "cell_type": "code",
   "execution_count": 36,
   "metadata": {
    "collapsed": false
   },
   "outputs": [
    {
     "name": "stdout",
     "output_type": "stream",
     "text": [
      "['incident_number', 'offense_code', 'description', 'date', 'day_of_the_week', 'lat', 'long']\n",
      "['1', '619', 'LARCENY ALL OTHERS', '2018-09-02', 'Sunday', '42.35779134', '-71.13937053']\n"
     ]
    }
   ],
   "source": [
    "print(col_headers)\n",
    "print(first_row)"
   ]
  },
  {
   "cell_type": "markdown",
   "metadata": {},
   "source": [
    "From the result of printing first_row we see that kind of data that we have are:\n",
    "- integer numbers\n",
    "- integer numbers\n",
    "- string\n",
    "- date\n",
    "- string\n",
    "- decimal number\n",
    "- decimal number"
   ]
  },
  {
   "cell_type": "markdown",
   "metadata": {},
   "source": [
    "The number of different values of each column was:\n",
    "- incident_number 298329\n",
    "- offense_code       219\n",
    "- description        239\n",
    "- date              1177\n",
    "- day_of_the_week      7\n",
    "- lat              18177\n",
    "- long             18177"
   ]
  },
  {
   "cell_type": "code",
   "execution_count": 37,
   "metadata": {
    "collapsed": false
   },
   "outputs": [],
   "source": [
    "# create the enumerated datatype for representing the weekday\n",
    "cur.execute(\"\"\"\n",
    "    CREATE TYPE weekday AS ENUM ('Monday', 'Tuesday', 'Wednesday', 'Thursday', 'Friday', 'Saturday', 'Sunday');\n",
    "\"\"\")\n",
    "# create the table\n",
    "cur.execute(\"\"\"\n",
    "    CREATE TABLE crimes.boston_crimes (\n",
    "        incident_number INTEGER PRIMARY KEY,\n",
    "        offense_code INTEGER,\n",
    "        description VARCHAR(100),\n",
    "        date DATE,\n",
    "        day_of_the_week weekday,\n",
    "        lat decimal,\n",
    "        long decimal\n",
    "    );\n",
    "\"\"\")"
   ]
  },
  {
   "cell_type": "markdown",
   "metadata": {},
   "source": [
    "We have created an enumerated datatype named weekday for the day_of_the_week since there there only seven possible values."
   ]
  },
  {
   "cell_type": "markdown",
   "metadata": {},
   "source": [
    "For the incident_number we have decided to use the type INTEGER and set it as the primary key. We also used same datatype INTEGER to represent the offense_code."
   ]
  },
  {
   "cell_type": "markdown",
   "metadata": {},
   "source": [
    "Since the description has at most 58 character we decided to use the datatype VARCHAR(100) for representing it. This leave some margin while not being so big that we will waste a lot of memory."
   ]
  },
  {
   "cell_type": "markdown",
   "metadata": {},
   "source": [
    "The date was represented as the DATE datatype. Finally, for the latitude and longitude we used DECIMAL datatypes."
   ]
  },
  {
   "cell_type": "markdown",
   "metadata": {},
   "source": [
    "## Load the data into the table"
   ]
  },
  {
   "cell_type": "markdown",
   "metadata": {},
   "source": [
    "We use the copy_expert to load the data as it is very fast and very succinct to use."
   ]
  },
  {
   "cell_type": "code",
   "execution_count": 38,
   "metadata": {
    "collapsed": false
   },
   "outputs": [
    {
     "name": "stdout",
     "output_type": "stream",
     "text": [
      "298329\n"
     ]
    }
   ],
   "source": [
    "# load the data from boston.csv into the table boston_crimes that is in the crimes schema\n",
    "with open(\"boston.csv\") as f:\n",
    "    cur.copy_expert(\"COPY crimes.boston_crimes FROM STDIN WITH CSV HEADER;\", f)\n",
    "cur.execute(\"SELECT * FROM crimes.boston_crimes\")\n",
    "# print the number of rows to ensure that they were loaded\n",
    "print(len(cur.fetchall()))"
   ]
  },
  {
   "cell_type": "markdown",
   "metadata": {},
   "source": [
    "## Revoke public privileges"
   ]
  },
  {
   "cell_type": "markdown",
   "metadata": {},
   "source": [
    "Our goal is to create the two user groups: readonly and readwrite. "
   ]
  },
  {
   "cell_type": "markdown",
   "metadata": {},
   "source": [
    "By following the least privilege principle, as the first step we make sure that there are no privileges inherited from the public group and on the public schema."
   ]
  },
  {
   "cell_type": "code",
   "execution_count": 39,
   "metadata": {
    "collapsed": true
   },
   "outputs": [],
   "source": [
    "cur.execute(\"REVOKE ALL ON SCHEMA public FROM public;\")\n",
    "cur.execute(\"REVOKE ALL ON DATABASE crime_db FROM public;\")"
   ]
  },
  {
   "cell_type": "markdown",
   "metadata": {},
   "source": [
    "## Creating the read only group"
   ]
  },
  {
   "cell_type": "markdown",
   "metadata": {},
   "source": [
    "The readonly group is supposed to only have privileges to perform SELECT queries."
   ]
  },
  {
   "cell_type": "markdown",
   "metadata": {},
   "source": [
    "We create a readonly group with NOLOGIN because it is a group and not a user. We grant the group the ability to connect to the crime_db and the ability to use the crimes schema. Then we deal with tables privileges by granting SELECT. We also add an extra line compared with what was asked. This extra line changes the way that privileges are given by default to the readonly group on new table that are created on the crimes schema."
   ]
  },
  {
   "cell_type": "code",
   "execution_count": 40,
   "metadata": {
    "collapsed": true
   },
   "outputs": [],
   "source": [
    "cur.execute(\"CREATE GROUP readonly NOLOGIN;\")\n",
    "cur.execute(\"GRANT CONNECT ON DATABASE crime_db TO readonly;\")\n",
    "cur.execute(\"GRANT USAGE ON SCHEMA crimes TO readonly;\")\n",
    "cur.execute(\"GRANT SELECT ON ALL TABLES IN SCHEMA crimes TO readonly;\")"
   ]
  },
  {
   "cell_type": "markdown",
   "metadata": {},
   "source": [
    "## Creating the read-write group"
   ]
  },
  {
   "cell_type": "markdown",
   "metadata": {},
   "source": [
    "We want the readwrite group to be able to perform SELECT, INSERT, DELETE, and UPDATE queries. "
   ]
  },
  {
   "cell_type": "markdown",
   "metadata": {},
   "source": [
    "We create a readwrite group with NOLOGIN because it is a group and not a user. We grant the group the ability to connect to the crime_db and the ability to use the crimes schema. Then we deal with tables privileges by granting SELECT, INSERT, UPDATE and DELETE."
   ]
  },
  {
   "cell_type": "code",
   "execution_count": 41,
   "metadata": {
    "collapsed": true
   },
   "outputs": [],
   "source": [
    "cur.execute(\"CREATE GROUP readwrite NOLOGIN;\")\n",
    "cur.execute(\"GRANT CONNECT ON DATABASE crime_db TO readwrite;\")\n",
    "cur.execute(\"GRANT USAGE ON SCHEMA crimes TO readwrite;\")\n",
    "cur.execute(\"GRANT SELECT, INSERT, UPDATE, DELETE ON ALL TABLES IN SCHEMA crimes TO readwrite;\")"
   ]
  },
  {
   "cell_type": "markdown",
   "metadata": {},
   "source": [
    "## Creating one user for each group"
   ]
  },
  {
   "cell_type": "markdown",
   "metadata": {},
   "source": [
    "We create a user named data_analyst with password secret1 in the readonly group."
   ]
  },
  {
   "cell_type": "markdown",
   "metadata": {},
   "source": [
    "We create a user named data_scientist with password secret2 in the readwrite group."
   ]
  },
  {
   "cell_type": "code",
   "execution_count": 42,
   "metadata": {
    "collapsed": true
   },
   "outputs": [],
   "source": [
    "cur.execute(\"CREATE USER data_analyst WITH PASSWORD 'secret1';\")\n",
    "cur.execute(\"GRANT readonly TO data_analyst;\")\n",
    "\n",
    "cur.execute(\"CREATE USER data_scientist WITH PASSWORD 'secret2';\")\n",
    "cur.execute(\"GRANT readwrite TO data_scientist;\")"
   ]
  },
  {
   "cell_type": "markdown",
   "metadata": {},
   "source": [
    "## Test the database setup"
   ]
  },
  {
   "cell_type": "markdown",
   "metadata": {},
   "source": [
    "Let's test the database setup using SQL queries on the pg_roles table and information_schema.table_privileges."
   ]
  },
  {
   "cell_type": "markdown",
   "metadata": {},
   "source": [
    "In the pg_roles table we will check database related privileges and for that we will look at the following columns:"
   ]
  },
  {
   "cell_type": "markdown",
   "metadata": {},
   "source": [
    "- rolname: The name of the user / group that the privilege refers to.\n",
    "- rolsuper: Whether this user / group is a super user. It should be set to False on every user / group that we have created.\n",
    "- rolcreaterole: Whether user / group can create users, groups or roles. It should be False on every user / group that we have created.\n",
    "- rolcreatedb: Whether user / group can create databases. It should be False on every user / group that we have created.\n",
    "- rolcanlogin: Whether user / group can login. It should be True on the users and False on the groups that we have created."
   ]
  },
  {
   "cell_type": "markdown",
   "metadata": {},
   "source": [
    "In the information_schema.table_privileges we will check privileges related to SQL queries on tables. We will list the privileges of each group that we have created."
   ]
  },
  {
   "cell_type": "code",
   "execution_count": 43,
   "metadata": {
    "collapsed": false
   },
   "outputs": [
    {
     "name": "stdout",
     "output_type": "stream",
     "text": [
      "('readonly', False, False, False, False)\n",
      "('readwrite', False, False, False, False)\n",
      "('data_analyst', False, False, False, True)\n",
      "('data_scientist', False, False, False, True)\n",
      "\n",
      "('readonly', 'SELECT')\n",
      "('readwrite', 'INSERT')\n",
      "('readwrite', 'SELECT')\n",
      "('readwrite', 'UPDATE')\n",
      "('readwrite', 'DELETE')\n"
     ]
    }
   ],
   "source": [
    "# close the old connection to test with a brand new connection\n",
    "conn.close()\n",
    "\n",
    "conn = psycopg2.connect(dbname=\"crime_db\", user=\"dq\")\n",
    "cur = conn.cursor()\n",
    "# check users and groups\n",
    "cur.execute(\"\"\"\n",
    "    SELECT rolname, rolsuper, rolcreaterole, rolcreatedb, rolcanlogin FROM pg_roles\n",
    "    WHERE rolname IN ('readonly', 'readwrite', 'data_analyst', 'data_scientist');\n",
    "\"\"\")\n",
    "for user in cur:\n",
    "    print(user)\n",
    "print()\n",
    "# check privileges\n",
    "cur.execute(\"\"\"\n",
    "    SELECT grantee, privilege_type\n",
    "    FROM information_schema.table_privileges\n",
    "    WHERE grantee IN ('readonly', 'readwrite');\n",
    "\"\"\")\n",
    "for user in cur:\n",
    "    print(user)\n",
    "conn.close()"
   ]
  },
  {
   "cell_type": "code",
   "execution_count": null,
   "metadata": {
    "collapsed": true
   },
   "outputs": [],
   "source": []
  }
 ],
 "metadata": {
  "kernelspec": {
   "display_name": "Python 3",
   "language": "python",
   "name": "python3"
  },
  "language_info": {
   "codemirror_mode": {
    "name": "ipython",
    "version": 3
   },
   "file_extension": ".py",
   "mimetype": "text/x-python",
   "name": "python",
   "nbconvert_exporter": "python",
   "pygments_lexer": "ipython3",
   "version": "3.4.3"
  }
 },
 "nbformat": 4,
 "nbformat_minor": 2
}
