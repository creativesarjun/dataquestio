{
 "cells": [
  {
   "cell_type": "markdown",
   "id": "cfe6fad0",
   "metadata": {},
   "source": [
    "# Predicting stock prices with Random Forests using scikit-learn"
   ]
  },
  {
   "cell_type": "markdown",
   "id": "3c1a9d81",
   "metadata": {},
   "source": [
    "Let's say we want to make money by buying stocks. Since we want to make money, we only want to buy stock on days when the price will go up (we're against shorting the stock). We'll create a machine learning algorithm to predict if the stock price will increase tomorrow. If the algorithm says that the price will increase, we'll buy stock. If the algorithm says that the price will go down, we won't do anything."
   ]
  },
  {
   "cell_type": "markdown",
   "id": "bc7f9d0f",
   "metadata": {},
   "source": [
    "We want to maximize our true positives - days when the algorithm predicts that the price will go up, and it actually goes go up. Therefore, we'll be using precision as our error metric for our algorithm, which is true positives / (false positives + true positives). This will ensure that we minimize how much money we lose with false positives (days when we buy the stock, but the price actually goes down)."
   ]
  },
  {
   "cell_type": "markdown",
   "id": "103ac142",
   "metadata": {},
   "source": [
    "This means that we will have to accept a lot of false negatives - days when we predict that the price will go down, but it actually goes up. This is okay, since we'd rather minimize our potential losses than maximize our potential gains."
   ]
  },
  {
   "cell_type": "markdown",
   "id": "defd819e",
   "metadata": {},
   "source": [
    "## Method"
   ]
  },
  {
   "cell_type": "markdown",
   "id": "e7aadf34",
   "metadata": {},
   "source": [
    "Before we get to the machine learning, we need to do a lot of work to acquire and clean up the data. Here are the steps we'll follow:"
   ]
  },
  {
   "cell_type": "markdown",
   "id": "23cd7c24",
   "metadata": {},
   "source": [
    "- Download historical stock prices from Yahoo finance\n",
    "- Explore the data\n",
    "- Setup the dataset to predict future prices using historical prices\n",
    "- Test a machine learning model\n",
    "- Setup a backtesting engine\n",
    "- Improve the accuracy of the model"
   ]
  },
  {
   "cell_type": "markdown",
   "id": "fe3dd173",
   "metadata": {},
   "source": [
    "## Downloading the data"
   ]
  },
  {
   "cell_type": "markdown",
   "id": "6eba07e6",
   "metadata": {},
   "source": [
    "First, we'll download the data from Yahoo Finance. We'll save the data after we download it, so we don't have to re-download it every time (this could cause our IP to get blocked)."
   ]
  },
  {
   "cell_type": "markdown",
   "id": "acb403f0",
   "metadata": {},
   "source": [
    "We'll use data for a single stock (Microsoft) from when it started trading to the present."
   ]
  },
  {
   "cell_type": "code",
   "execution_count": 142,
   "id": "e0493b15",
   "metadata": {},
   "outputs": [],
   "source": [
    "import yfinance as yf\n",
    "import os\n",
    "import json\n",
    "import pandas as pd"
   ]
  },
  {
   "cell_type": "code",
   "execution_count": 143,
   "id": "1ee81d3f",
   "metadata": {},
   "outputs": [],
   "source": [
    "DATA_PATH = \"msft_data.json\"\n",
    "\n",
    "if os.path.exists(DATA_PATH): # Check if the file exists\n",
    "    # Read from file if we've already downloaded the data.\n",
    "    with open(DATA_PATH) as f: #Open the file assigning the opened file to f\n",
    "        msft_hist = pd.read_json(DATA_PATH) #Convert a JSON string to pandas object\n",
    "else:\n",
    "    msft = yf.Ticker(\"MSFT\")\n",
    "    msft_hist = msft.history(period=\"max\")\n",
    "\n",
    "    # Save file to json in case we need it later.  This prevents us from having to re-download it every time.\n",
    "    msft_hist.to_json(DATA_PATH)"
   ]
  },
  {
   "cell_type": "code",
   "execution_count": 163,
   "id": "2f144ed7",
   "metadata": {
    "scrolled": false
   },
   "outputs": [
    {
     "data": {
      "text/html": [
       "<div>\n",
       "<style scoped>\n",
       "    .dataframe tbody tr th:only-of-type {\n",
       "        vertical-align: middle;\n",
       "    }\n",
       "\n",
       "    .dataframe tbody tr th {\n",
       "        vertical-align: top;\n",
       "    }\n",
       "\n",
       "    .dataframe thead th {\n",
       "        text-align: right;\n",
       "    }\n",
       "</style>\n",
       "<table border=\"1\" class=\"dataframe\">\n",
       "  <thead>\n",
       "    <tr style=\"text-align: right;\">\n",
       "      <th></th>\n",
       "      <th>Open</th>\n",
       "      <th>High</th>\n",
       "      <th>Low</th>\n",
       "      <th>Close</th>\n",
       "      <th>Volume</th>\n",
       "      <th>Dividends</th>\n",
       "      <th>Stock Splits</th>\n",
       "    </tr>\n",
       "  </thead>\n",
       "  <tbody>\n",
       "    <tr>\n",
       "      <th>1986-03-13</th>\n",
       "      <td>0.055536</td>\n",
       "      <td>0.063703</td>\n",
       "      <td>0.055536</td>\n",
       "      <td>0.060980</td>\n",
       "      <td>1031788800</td>\n",
       "      <td>0.0</td>\n",
       "      <td>0.0</td>\n",
       "    </tr>\n",
       "    <tr>\n",
       "      <th>1986-03-14</th>\n",
       "      <td>0.060980</td>\n",
       "      <td>0.064247</td>\n",
       "      <td>0.060980</td>\n",
       "      <td>0.063158</td>\n",
       "      <td>308160000</td>\n",
       "      <td>0.0</td>\n",
       "      <td>0.0</td>\n",
       "    </tr>\n",
       "    <tr>\n",
       "      <th>1986-03-17</th>\n",
       "      <td>0.063158</td>\n",
       "      <td>0.064792</td>\n",
       "      <td>0.063158</td>\n",
       "      <td>0.064247</td>\n",
       "      <td>133171200</td>\n",
       "      <td>0.0</td>\n",
       "      <td>0.0</td>\n",
       "    </tr>\n",
       "    <tr>\n",
       "      <th>1986-03-18</th>\n",
       "      <td>0.064247</td>\n",
       "      <td>0.064792</td>\n",
       "      <td>0.062069</td>\n",
       "      <td>0.062613</td>\n",
       "      <td>67766400</td>\n",
       "      <td>0.0</td>\n",
       "      <td>0.0</td>\n",
       "    </tr>\n",
       "    <tr>\n",
       "      <th>1986-03-19</th>\n",
       "      <td>0.062613</td>\n",
       "      <td>0.063158</td>\n",
       "      <td>0.060980</td>\n",
       "      <td>0.061524</td>\n",
       "      <td>47894400</td>\n",
       "      <td>0.0</td>\n",
       "      <td>0.0</td>\n",
       "    </tr>\n",
       "    <tr>\n",
       "      <th>1986-03-20</th>\n",
       "      <td>0.061524</td>\n",
       "      <td>0.061524</td>\n",
       "      <td>0.059347</td>\n",
       "      <td>0.059891</td>\n",
       "      <td>58435200</td>\n",
       "      <td>0.0</td>\n",
       "      <td>0.0</td>\n",
       "    </tr>\n",
       "    <tr>\n",
       "      <th>1986-03-21</th>\n",
       "      <td>0.059891</td>\n",
       "      <td>0.060980</td>\n",
       "      <td>0.057169</td>\n",
       "      <td>0.058258</td>\n",
       "      <td>59990400</td>\n",
       "      <td>0.0</td>\n",
       "      <td>0.0</td>\n",
       "    </tr>\n",
       "    <tr>\n",
       "      <th>1986-03-24</th>\n",
       "      <td>0.058258</td>\n",
       "      <td>0.058258</td>\n",
       "      <td>0.056080</td>\n",
       "      <td>0.056624</td>\n",
       "      <td>65289600</td>\n",
       "      <td>0.0</td>\n",
       "      <td>0.0</td>\n",
       "    </tr>\n",
       "    <tr>\n",
       "      <th>1986-03-25</th>\n",
       "      <td>0.056625</td>\n",
       "      <td>0.057713</td>\n",
       "      <td>0.056080</td>\n",
       "      <td>0.057713</td>\n",
       "      <td>32083200</td>\n",
       "      <td>0.0</td>\n",
       "      <td>0.0</td>\n",
       "    </tr>\n",
       "    <tr>\n",
       "      <th>1986-03-26</th>\n",
       "      <td>0.057713</td>\n",
       "      <td>0.059891</td>\n",
       "      <td>0.057169</td>\n",
       "      <td>0.059347</td>\n",
       "      <td>22752000</td>\n",
       "      <td>0.0</td>\n",
       "      <td>0.0</td>\n",
       "    </tr>\n",
       "  </tbody>\n",
       "</table>\n",
       "</div>"
      ],
      "text/plain": [
       "                Open      High       Low     Close      Volume  Dividends  \\\n",
       "1986-03-13  0.055536  0.063703  0.055536  0.060980  1031788800        0.0   \n",
       "1986-03-14  0.060980  0.064247  0.060980  0.063158   308160000        0.0   \n",
       "1986-03-17  0.063158  0.064792  0.063158  0.064247   133171200        0.0   \n",
       "1986-03-18  0.064247  0.064792  0.062069  0.062613    67766400        0.0   \n",
       "1986-03-19  0.062613  0.063158  0.060980  0.061524    47894400        0.0   \n",
       "1986-03-20  0.061524  0.061524  0.059347  0.059891    58435200        0.0   \n",
       "1986-03-21  0.059891  0.060980  0.057169  0.058258    59990400        0.0   \n",
       "1986-03-24  0.058258  0.058258  0.056080  0.056624    65289600        0.0   \n",
       "1986-03-25  0.056625  0.057713  0.056080  0.057713    32083200        0.0   \n",
       "1986-03-26  0.057713  0.059891  0.057169  0.059347    22752000        0.0   \n",
       "\n",
       "            Stock Splits  \n",
       "1986-03-13           0.0  \n",
       "1986-03-14           0.0  \n",
       "1986-03-17           0.0  \n",
       "1986-03-18           0.0  \n",
       "1986-03-19           0.0  \n",
       "1986-03-20           0.0  \n",
       "1986-03-21           0.0  \n",
       "1986-03-24           0.0  \n",
       "1986-03-25           0.0  \n",
       "1986-03-26           0.0  "
      ]
     },
     "execution_count": 163,
     "metadata": {},
     "output_type": "execute_result"
    }
   ],
   "source": [
    "msft_hist.head(10)"
   ]
  },
  {
   "cell_type": "markdown",
   "id": "bfa6f793",
   "metadata": {},
   "source": [
    "As we can see, we have one row of data for each day that Microsoft stock was traded. Here are the columns:"
   ]
  },
  {
   "cell_type": "markdown",
   "id": "29f6bdae",
   "metadata": {},
   "source": [
    "- Open - the price the stock opened at.\n",
    "- High - the highest price during the day\n",
    "- Low - the lowest price during the day\n",
    "- Close - the closing price on the trading day\n",
    "- Volume - how many shares were traded"
   ]
  },
  {
   "cell_type": "markdown",
   "id": "e146d509",
   "metadata": {},
   "source": [
    "Stock doesn't trade every day (there is no trading on weekends and holidays), so some dates are missing."
   ]
  },
  {
   "cell_type": "markdown",
   "id": "bf1247c9",
   "metadata": {},
   "source": [
    "Next, we'll plot the data so we can see how the stock price has changed over time. This gives us another overview of the structure of the data."
   ]
  },
  {
   "cell_type": "code",
   "execution_count": 145,
   "id": "57fd72b3",
   "metadata": {
    "scrolled": true
   },
   "outputs": [
    {
     "data": {
      "text/plain": [
       "<AxesSubplot:>"
      ]
     },
     "execution_count": 145,
     "metadata": {},
     "output_type": "execute_result"
    },
    {
     "data": {
      "image/png": "[encoded data removed]",
      "text/plain": [
       "<Figure size 432x288 with 1 Axes>"
      ]
     },
     "metadata": {
      "needs_background": "light"
     },
     "output_type": "display_data"
    }
   ],
   "source": [
    "msft_hist.plot.line(y=\"Close\", use_index=True)"
   ]
  },
  {
   "cell_type": "markdown",
   "id": "a16ff71c",
   "metadata": {},
   "source": [
    "## Preparing the data"
   ]
  },
  {
   "cell_type": "markdown",
   "id": "3cba3530",
   "metadata": {},
   "source": [
    "Ok, hopefully you've stopped kicking yourself for not buying Microsoft stock at any point in the past 30 years now."
   ]
  },
  {
   "cell_type": "markdown",
   "id": "f4afcf83",
   "metadata": {},
   "source": [
    "Now, let's prepare the data so we can make predictions. We'll be predicting if the price will go up or down tomorrow based on data from today."
   ]
  },
  {
   "cell_type": "markdown",
   "id": "0d39808c",
   "metadata": {},
   "source": [
    "First, we'll identify a target that we're trying to predict. Our target will be if the price will go up or down tomorrow. If the price went up, the target will be 1 and if it went down, the target will be 0."
   ]
  },
  {
   "cell_type": "markdown",
   "id": "e3447ae0",
   "metadata": {},
   "source": [
    "Next, we'll shift the data from previous days \"forward\" one day, so we can use it to predict the target price. This ensures that we don't accidentally use data from the same day to make predictions! (a very common mistake)"
   ]
  },
  {
   "cell_type": "markdown",
   "id": "08c24750",
   "metadata": {},
   "source": [
    "Then, we'll combine both so we have our training data."
   ]
  },
  {
   "cell_type": "code",
   "execution_count": 146,
   "id": "b3787cec",
   "metadata": {},
   "outputs": [],
   "source": [
    "# Ensure we know the actual closing price\n",
    "data = msft_hist[[\"Close\"]]\n",
    "data = data.rename(columns = {'Close':'Actual_Close'})\n",
    "\n",
    "# Setup our target.  This identifies if the price went up or down\n",
    "data[\"Target\"] = msft_hist.rolling(2).apply(lambda x: x.iloc[1] > x.iloc[0])[\"Close\"]"
   ]
  },
  {
   "cell_type": "code",
   "execution_count": 147,
   "id": "bc203aa0",
   "metadata": {},
   "outputs": [],
   "source": [
    "# Shift stock prices forward one day, so we're predicting tomorrow's stock prices from today's prices.\n",
    "msft_prev = msft_hist.copy()\n",
    "msft_prev = msft_prev.shift(1)"
   ]
  },
  {
   "cell_type": "code",
   "execution_count": 148,
   "id": "f3418dbb",
   "metadata": {},
   "outputs": [],
   "source": [
    "# Create our training data\n",
    "predictors = [\"Close\", \"Volume\", \"Open\", \"High\", \"Low\"]\n",
    "data = data.join(msft_prev[predictors]).iloc[1:]"
   ]
  },
  {
   "cell_type": "code",
   "execution_count": 149,
   "id": "3657625e",
   "metadata": {
    "scrolled": true
   },
   "outputs": [
    {
     "data": {
      "text/html": [
       "<div>\n",
       "<style scoped>\n",
       "    .dataframe tbody tr th:only-of-type {\n",
       "        vertical-align: middle;\n",
       "    }\n",
       "\n",
       "    .dataframe tbody tr th {\n",
       "        vertical-align: top;\n",
       "    }\n",
       "\n",
       "    .dataframe thead th {\n",
       "        text-align: right;\n",
       "    }\n",
       "</style>\n",
       "<table border=\"1\" class=\"dataframe\">\n",
       "  <thead>\n",
       "    <tr style=\"text-align: right;\">\n",
       "      <th></th>\n",
       "      <th>Actual_Close</th>\n",
       "      <th>Target</th>\n",
       "      <th>Close</th>\n",
       "      <th>Volume</th>\n",
       "      <th>Open</th>\n",
       "      <th>High</th>\n",
       "      <th>Low</th>\n",
       "    </tr>\n",
       "  </thead>\n",
       "  <tbody>\n",
       "    <tr>\n",
       "      <th>1986-03-14</th>\n",
       "      <td>0.063158</td>\n",
       "      <td>1.0</td>\n",
       "      <td>0.060980</td>\n",
       "      <td>1.031789e+09</td>\n",
       "      <td>0.055536</td>\n",
       "      <td>0.063703</td>\n",
       "      <td>0.055536</td>\n",
       "    </tr>\n",
       "    <tr>\n",
       "      <th>1986-03-17</th>\n",
       "      <td>0.064247</td>\n",
       "      <td>1.0</td>\n",
       "      <td>0.063158</td>\n",
       "      <td>3.081600e+08</td>\n",
       "      <td>0.060980</td>\n",
       "      <td>0.064247</td>\n",
       "      <td>0.060980</td>\n",
       "    </tr>\n",
       "    <tr>\n",
       "      <th>1986-03-18</th>\n",
       "      <td>0.062613</td>\n",
       "      <td>0.0</td>\n",
       "      <td>0.064247</td>\n",
       "      <td>1.331712e+08</td>\n",
       "      <td>0.063158</td>\n",
       "      <td>0.064792</td>\n",
       "      <td>0.063158</td>\n",
       "    </tr>\n",
       "    <tr>\n",
       "      <th>1986-03-19</th>\n",
       "      <td>0.061524</td>\n",
       "      <td>0.0</td>\n",
       "      <td>0.062613</td>\n",
       "      <td>6.776640e+07</td>\n",
       "      <td>0.064247</td>\n",
       "      <td>0.064792</td>\n",
       "      <td>0.062069</td>\n",
       "    </tr>\n",
       "    <tr>\n",
       "      <th>1986-03-20</th>\n",
       "      <td>0.059891</td>\n",
       "      <td>0.0</td>\n",
       "      <td>0.061524</td>\n",
       "      <td>4.789440e+07</td>\n",
       "      <td>0.062613</td>\n",
       "      <td>0.063158</td>\n",
       "      <td>0.060980</td>\n",
       "    </tr>\n",
       "  </tbody>\n",
       "</table>\n",
       "</div>"
      ],
      "text/plain": [
       "            Actual_Close  Target     Close        Volume      Open      High  \\\n",
       "1986-03-14      0.063158     1.0  0.060980  1.031789e+09  0.055536  0.063703   \n",
       "1986-03-17      0.064247     1.0  0.063158  3.081600e+08  0.060980  0.064247   \n",
       "1986-03-18      0.062613     0.0  0.064247  1.331712e+08  0.063158  0.064792   \n",
       "1986-03-19      0.061524     0.0  0.062613  6.776640e+07  0.064247  0.064792   \n",
       "1986-03-20      0.059891     0.0  0.061524  4.789440e+07  0.062613  0.063158   \n",
       "\n",
       "                 Low  \n",
       "1986-03-14  0.055536  \n",
       "1986-03-17  0.060980  \n",
       "1986-03-18  0.063158  \n",
       "1986-03-19  0.062069  \n",
       "1986-03-20  0.060980  "
      ]
     },
     "execution_count": 149,
     "metadata": {},
     "output_type": "execute_result"
    }
   ],
   "source": [
    "data.head(5)"
   ]
  },
  {
   "cell_type": "markdown",
   "id": "3ecbbbc4",
   "metadata": {},
   "source": [
    "## Creating a machine learning model"
   ]
  },
  {
   "cell_type": "markdown",
   "id": "e39cb99e",
   "metadata": {},
   "source": [
    "Next, we'll create a machine learning model to see how accurately we can predict the stock price."
   ]
  },
  {
   "cell_type": "markdown",
   "id": "3c6a26ef",
   "metadata": {},
   "source": [
    "Because we're dealing with time series data, we can't just use cross-validation to create predictions for the whole dataset. This will cause leakage where data from the future will be used to predict past prices. This doesn't match with the real world, and will make us think that our algorithm is much better than it actually is."
   ]
  },
  {
   "cell_type": "markdown",
   "id": "9104bae0",
   "metadata": {},
   "source": [
    "Instead, we'll split the data sequentially. We'll start off by predicting just the last 100 rows using the other rows."
   ]
  },
  {
   "cell_type": "markdown",
   "id": "2827e9e3",
   "metadata": {},
   "source": [
    "We'll use a random forest classifier to generate our predictions. This is a good \"default\" model for a lot of applications, because it can pick up nonlinear relationships in the data, and is somewhat robust to overfitting with the right parameters."
   ]
  },
  {
   "cell_type": "code",
   "execution_count": 150,
   "id": "9762e30a",
   "metadata": {},
   "outputs": [
    {
     "data": {
      "text/plain": [
       "RandomForestClassifier(min_samples_split=200, random_state=1)"
      ]
     },
     "execution_count": 150,
     "metadata": {},
     "output_type": "execute_result"
    }
   ],
   "source": [
    "from sklearn.ensemble import RandomForestClassifier\n",
    "import numpy as np\n",
    "\n",
    "# Create a random forest classification model.  Set min_samples_split high to ensure we don't overfit.\n",
    "model = RandomForestClassifier(n_estimators=100, min_samples_split=200, random_state=1)\n",
    "\n",
    "# Create a train and test set\n",
    "train = data.iloc[:-100]\n",
    "test = data.iloc[-100:]\n",
    "\n",
    "model.fit(train[predictors], train[\"Target\"])"
   ]
  },
  {
   "cell_type": "markdown",
   "id": "783a3e4b",
   "metadata": {},
   "source": [
    "Next, we'll need to check how accurate the model was. Earlier, we mentioned using precision to measure error. We can do this by using the precision_score function from scikit-learn."
   ]
  },
  {
   "cell_type": "code",
   "execution_count": 151,
   "id": "51833012",
   "metadata": {},
   "outputs": [
    {
     "data": {
      "text/plain": [
       "0.4777777777777778"
      ]
     },
     "execution_count": 151,
     "metadata": {},
     "output_type": "execute_result"
    }
   ],
   "source": [
    "from sklearn.metrics import precision_score\n",
    "\n",
    "# Evaluate error of predictions\n",
    "preds = model.predict(test[predictors])\n",
    "preds = pd.Series(preds, index=test.index)\n",
    "precision_score(test[\"Target\"], preds)"
   ]
  },
  {
   "cell_type": "markdown",
   "id": "15bbcdfe",
   "metadata": {},
   "source": [
    "So our model is directionally accurate 51% of the time. This is only a little bit better than a coin flip! We can take a deeper look at the individual predictions and the actuals, and see where we're off."
   ]
  },
  {
   "cell_type": "code",
   "execution_count": 152,
   "id": "3465c514",
   "metadata": {
    "scrolled": true
   },
   "outputs": [
    {
     "data": {
      "text/plain": [
       "<AxesSubplot:>"
      ]
     },
     "execution_count": 152,
     "metadata": {},
     "output_type": "execute_result"
    },
    {
     "data": {
      "image/png": "[encoded data removed]",
      "text/plain": [
       "<Figure size 432x288 with 1 Axes>"
      ]
     },
     "metadata": {
      "needs_background": "light"
     },
     "output_type": "display_data"
    }
   ],
   "source": [
    "combined = pd.concat({\"Target\": test[\"Target\"],\"Predictions\": preds}, axis=1)\n",
    "combined.plot()"
   ]
  },
  {
   "cell_type": "markdown",
   "id": "4734cfef",
   "metadata": {},
   "source": [
    "## Backtesting"
   ]
  },
  {
   "cell_type": "markdown",
   "id": "ff75bfe1",
   "metadata": {},
   "source": [
    "Our model isn't great, but luckily we can still improve it. Before we do that, let's figure out how to make predictions across the entire dataset, not just the last 100 rows. This will give us a more robust error estimate. The last 100 days may have has atypical market conditions or other issues that make error metrics on those days unrealistic for future predictions (which are what we really care about)."
   ]
  },
  {
   "cell_type": "markdown",
   "id": "0739e730",
   "metadata": {},
   "source": [
    "To do this, we'll need to backtest. Backtesting ensures that we only use data from before the day that we're predicting. If we use data from after the day we're predicting, the algorithm is unrealistic (in the real world, you won't be able to use future data to predict that past!)."
   ]
  },
  {
   "cell_type": "markdown",
   "id": "6ca2ab0e",
   "metadata": {},
   "source": [
    "Our backtesting method will loop over the dataset, and train a model every 750 rows. We'll make it a function so we can avoid rewriting the code if we want to backtest again."
   ]
  },
  {
   "cell_type": "markdown",
   "id": "f2d4883e",
   "metadata": {},
   "source": [
    "In the backtesting function, we will:"
   ]
  },
  {
   "cell_type": "markdown",
   "id": "10c2df05",
   "metadata": {},
   "source": [
    "Split the training and test data\n",
    "Train a model\n",
    "Make predictions on the test data using predict_proba - this is because we want to really optimize for true positives. By default, the threshold for splitting 0/1 is .5, but we can set it to different values to tweak the precision. If we set it too high, we'll make fewer trades, but will have a lower potential for losses."
   ]
  },
  {
   "cell_type": "code",
   "execution_count": 153,
   "id": "b509667b",
   "metadata": {},
   "outputs": [],
   "source": [
    "def backtest(data, model, predictors, start=1000, step=750):\n",
    "    predictions = []\n",
    "    # Loop over the dataset in increments\n",
    "    for i in range(start, data.shape[0], step):\n",
    "        # Split into train and test sets\n",
    "        train = data.iloc[0:i].copy()\n",
    "        test = data.iloc[i:(i+step)].copy()\n",
    "        \n",
    "        # Fit the random forest model\n",
    "        model.fit(train[predictors], train[\"Target\"])\n",
    "        \n",
    "        # Make predictions\n",
    "        preds = model.predict_proba(test[predictors])[:,1]\n",
    "        preds = pd.Series(preds, index=test.index)\n",
    "        preds[preds > .6] = 1\n",
    "        preds[preds<=.6] = 0\n",
    "        \n",
    "        # Combine predictions and test values\n",
    "        combined = pd.concat({\"Target\": test[\"Target\"],\"Predictions\": preds}, axis=1)\n",
    "        \n",
    "        predictions.append(combined)\n",
    "    \n",
    "    return pd.concat(predictions)"
   ]
  },
  {
   "cell_type": "code",
   "execution_count": 154,
   "id": "e05041e6",
   "metadata": {},
   "outputs": [],
   "source": [
    "predictions = backtest(data, model, predictors)"
   ]
  },
  {
   "cell_type": "code",
   "execution_count": 155,
   "id": "4efdcead",
   "metadata": {},
   "outputs": [
    {
     "data": {
      "text/plain": [
       "0.0    7484\n",
       "1.0     719\n",
       "Name: Predictions, dtype: int64"
      ]
     },
     "execution_count": 155,
     "metadata": {},
     "output_type": "execute_result"
    }
   ],
   "source": [
    "predictions[\"Predictions\"].value_counts()"
   ]
  },
  {
   "cell_type": "markdown",
   "id": "f884b4ff",
   "metadata": {},
   "source": [
    "As you can see, we're only making 719 trades. This is because we used .6 as a threshold for trading."
   ]
  },
  {
   "cell_type": "code",
   "execution_count": 156,
   "id": "13365c54",
   "metadata": {},
   "outputs": [
    {
     "data": {
      "text/plain": [
       "0.4993045897079277"
      ]
     },
     "execution_count": 156,
     "metadata": {},
     "output_type": "execute_result"
    }
   ],
   "source": [
    "precision_score(predictions[\"Target\"], predictions[\"Predictions\"])"
   ]
  },
  {
   "cell_type": "markdown",
   "id": "ef7387bd",
   "metadata": {},
   "source": [
    "## Improving accuracy"
   ]
  },
  {
   "cell_type": "markdown",
   "id": "74548fae",
   "metadata": {},
   "source": [
    "The model isn't very accurate, but at least now we can make predictions across the entire history of the stock. For this model to be useful, we have to get it to predict more accurately."
   ]
  },
  {
   "cell_type": "markdown",
   "id": "79727833",
   "metadata": {},
   "source": [
    "Let's add some more predictors to see if we can improve accuracy."
   ]
  },
  {
   "cell_type": "markdown",
   "id": "0f82ea42",
   "metadata": {},
   "source": [
    "We'll add in some rolling means, so the model can evaluate the current price against recent prices. We'll also look at the ratios between different indicators."
   ]
  },
  {
   "cell_type": "code",
   "execution_count": 157,
   "id": "b31d0c44",
   "metadata": {},
   "outputs": [],
   "source": [
    "weekly_mean = data.rolling(7).mean()\n",
    "quarterly_mean = data.rolling(90).mean()\n",
    "annual_mean = data.rolling(365).mean()\n",
    "weekly_trend = data.shift(1).rolling(7).mean()[\"Target\"]"
   ]
  },
  {
   "cell_type": "code",
   "execution_count": 158,
   "id": "30e0ab63",
   "metadata": {},
   "outputs": [],
   "source": [
    "data[\"weekly_mean\"] = weekly_mean[\"Close\"] / data[\"Close\"]\n",
    "data[\"quarterly_mean\"] = quarterly_mean[\"Close\"] / data[\"Close\"]\n",
    "data[\"annual_mean\"] = annual_mean[\"Close\"] / data[\"Close\"]\n",
    "\n",
    "data[\"annual_weekly_mean\"] = data[\"annual_mean\"] / data[\"weekly_mean\"]\n",
    "data[\"annual_quarterly_mean\"] = data[\"annual_mean\"] / data[\"quarterly_mean\"]\n",
    "data[\"weekly_trend\"] = weekly_trend\n",
    "\n",
    "data[\"open_close_ratio\"] = data[\"Open\"] / data[\"Close\"]\n",
    "data[\"high_close_ratio\"] = data[\"High\"] / data[\"Close\"]\n",
    "data[\"low_close_ratio\"] = data[\"Low\"] / data[\"Close\"]"
   ]
  },
  {
   "cell_type": "code",
   "execution_count": 159,
   "id": "656196b5",
   "metadata": {},
   "outputs": [],
   "source": [
    "full_predictors = predictors + [\"weekly_mean\", \"quarterly_mean\", \"annual_mean\", \"annual_weekly_mean\", \"annual_quarterly_mean\", \"open_close_ratio\", \"high_close_ratio\", \"low_close_ratio\", \"weekly_trend\"]\n",
    "predictions = backtest(data.iloc[365:], model, full_predictors)"
   ]
  },
  {
   "cell_type": "code",
   "execution_count": 160,
   "id": "ddbf7216",
   "metadata": {},
   "outputs": [
    {
     "data": {
      "text/plain": [
       "0.5872340425531914"
      ]
     },
     "execution_count": 160,
     "metadata": {},
     "output_type": "execute_result"
    }
   ],
   "source": [
    "precision_score(predictions[\"Target\"], predictions[\"Predictions\"])"
   ]
  },
  {
   "cell_type": "code",
   "execution_count": 161,
   "id": "3a6ce543",
   "metadata": {},
   "outputs": [
    {
     "data": {
      "text/plain": [
       "0.0    7603\n",
       "1.0     235\n",
       "Name: Predictions, dtype: int64"
      ]
     },
     "execution_count": 161,
     "metadata": {},
     "output_type": "execute_result"
    }
   ],
   "source": [
    "predictions[\"Predictions\"].value_counts()"
   ]
  },
  {
   "cell_type": "code",
   "execution_count": 162,
   "id": "b5f6e9b2",
   "metadata": {},
   "outputs": [
    {
     "data": {
      "text/plain": [
       "<AxesSubplot:>"
      ]
     },
     "execution_count": 162,
     "metadata": {},
     "output_type": "execute_result"
    },
    {
     "data": {
      "image/png": "[encoded data removed]",
      "text/plain": [
       "<Figure size 432x288 with 1 Axes>"
      ]
     },
     "metadata": {
      "needs_background": "light"
     },
     "output_type": "display_data"
    }
   ],
   "source": [
    "predictions.iloc[-100:].plot()"
   ]
  },
  {
   "cell_type": "markdown",
   "id": "d1bb59d5",
   "metadata": {},
   "source": [
    "## Conslusion"
   ]
  },
  {
   "cell_type": "markdown",
   "id": "8cc7e1b6",
   "metadata": {},
   "source": [
    "We've downloaded and cleaned data, and setup a backtesting engine. We improved the accuracy of the algorithm by adding more predictors."
   ]
  }
 ],
 "metadata": {
  "kernelspec": {
   "display_name": "Python 3 (ipykernel)",
   "language": "python",
   "name": "python3"
  },
  "language_info": {
   "codemirror_mode": {
    "name": "ipython",
    "version": 3
   },
   "file_extension": ".py",
   "mimetype": "text/x-python",
   "name": "python",
   "nbconvert_exporter": "python",
   "pygments_lexer": "ipython3",
   "version": "3.9.7"
  }
 },
 "nbformat": 4,
 "nbformat_minor": 5
}
